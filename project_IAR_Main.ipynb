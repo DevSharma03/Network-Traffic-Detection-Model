{
 "cells": [
  {
   "cell_type": "markdown",
   "metadata": {},
   "source": [
    "# Load libraries"
   ]
  },
  {
   "cell_type": "code",
   "execution_count": 1,
   "metadata": {
    "vscode": {
     "languageId": "r"
    }
   },
   "outputs": [
    {
     "name": "stderr",
     "output_type": "stream",
     "text": [
      "\n",
      "Attaching package: 'dplyr'\n",
      "\n",
      "\n",
      "The following objects are masked from 'package:stats':\n",
      "\n",
      "    filter, lag\n",
      "\n",
      "\n",
      "The following objects are masked from 'package:base':\n",
      "\n",
      "    intersect, setdiff, setequal, union\n",
      "\n",
      "\n",
      "\n",
      "Attaching package: 'lubridate'\n",
      "\n",
      "\n",
      "The following objects are masked from 'package:base':\n",
      "\n",
      "    date, intersect, setdiff, union\n",
      "\n",
      "\n",
      "\n",
      "Attaching package: 'rnaturalearthdata'\n",
      "\n",
      "\n",
      "The following object is masked from 'package:rnaturalearth':\n",
      "\n",
      "    countries110\n",
      "\n",
      "\n",
      "Type 'citation(\"pROC\")' for a citation.\n",
      "\n",
      "\n",
      "Attaching package: 'pROC'\n",
      "\n",
      "\n",
      "The following objects are masked from 'package:stats':\n",
      "\n",
      "    cov, smooth, var\n",
      "\n",
      "\n",
      "Loading required package: ggplot2\n",
      "\n",
      "Loading required package: lattice\n",
      "\n",
      "\n",
      "Attaching package: 'caret'\n",
      "\n",
      "\n",
      "The following object is masked from 'package:httr':\n",
      "\n",
      "    progress\n",
      "\n",
      "\n",
      "\n",
      "Attaching package: 'yardstick'\n",
      "\n",
      "\n",
      "The following objects are masked from 'package:caret':\n",
      "\n",
      "    precision, recall, sensitivity, specificity\n",
      "\n",
      "\n",
      "Loading required package: rlang\n",
      "\n"
     ]
    }
   ],
   "source": [
    "library(dplyr)\n",
    "library(lubridate)\n",
    "library(httr)\n",
    "library(isotree)\n",
    "library(leaflet)\n",
    "library(rnaturalearth)\n",
    "library(rnaturalearthdata)\n",
    "library(IRdisplay)\n",
    "library(htmlwidgets)\n",
    "library(pROC)   # For ROC Curve\n",
    "library(caret)  # For precision, recall, F1, accuracy\n",
    "library(leaflet.extras) # For clustering dots\n",
    "library(ggplot2)\n",
    "library(yardstick)\n",
    "library(PRROC)  # For Precision-Recall curve\n",
    "library(reshape2) # For Confusion Matrix heatmap\n",
    "library(patchwork) # For combining plots"
   ]
  },
  {
   "cell_type": "markdown",
   "metadata": {},
   "source": [
    "# Validate Coordinates"
   ]
  },
  {
   "cell_type": "code",
   "execution_count": 2,
   "metadata": {
    "vscode": {
     "languageId": "r"
    }
   },
   "outputs": [],
   "source": [
    "validate_coordinates <- function(df) {\n",
    "  world <- ne_countries(scale = \"medium\", returnclass = \"sf\")\n",
    "  coords <- sf::st_as_sf(df, coords = c(\"longitude\", \"latitude\"), crs = 4326)\n",
    "  valid_coords <- sf::st_within(coords, world, sparse = FALSE)\n",
    "  df <- df[apply(valid_coords, 1, any), ]\n",
    "  return(df)\n",
    "}"
   ]
  },
  {
   "cell_type": "markdown",
   "metadata": {},
   "source": [
    "# Fetch Data"
   ]
  },
  {
   "cell_type": "code",
   "execution_count": 3,
   "metadata": {
    "vscode": {
     "languageId": "r"
    }
   },
   "outputs": [],
   "source": [
    "fetch_data <- function() {\n",
    "  set.seed(123)\n",
    "  n <- 1000\n",
    "  df <- data.frame(\n",
    "    timestamp = Sys.time() + seq(1, n, by = 1),\n",
    "    request_rate = rpois(n, lambda = 20),\n",
    "    session_duration = rnorm(n, mean = 300, sd = 50),\n",
    "    unique_paths_visited = rpois(n, lambda = 5),\n",
    "    latitude = runif(n, min = -90, max = 90),\n",
    "    longitude = runif(n, min = -180, max = 180)\n",
    "  )\n",
    "  \n",
    "  fake_traffic_indices <- sample(1:n, size = floor(0.1 * n))\n",
    "  df$request_rate[fake_traffic_indices] <- rpois(length(fake_traffic_indices), lambda = 100)\n",
    "  df$session_duration[fake_traffic_indices] <- rnorm(length(fake_traffic_indices), mean = 100, sd = 30)\n",
    "  df$fake_traffic <- ifelse(1:n %in% fake_traffic_indices, 1, 0)\n",
    "  \n",
    "  df <- validate_coordinates(df)\n",
    "  return(df)\n",
    "}"
   ]
  },
  {
   "cell_type": "markdown",
   "metadata": {},
   "source": [
    "# Monitor Traffic"
   ]
  },
  {
   "cell_type": "code",
   "execution_count": 4,
   "metadata": {
    "vscode": {
     "languageId": "r"
    }
   },
   "outputs": [],
   "source": [
    "monitor_traffic <- function(new_data, model) {\n",
    "  new_data <- new_data %>%\n",
    "    mutate(\n",
    "      hour = hour(timestamp),\n",
    "      day_of_week = wday(timestamp, label = TRUE)\n",
    "    )\n",
    "  \n",
    "  new_data$anomaly_score <- predict(model, new_data[, c(\"request_rate\", \"session_duration\", \"unique_paths_visited\")])\n",
    "  new_data$anomaly <- ifelse(new_data$anomaly_score > 0.75, 1, 0)\n",
    "  new_data$traffic_type <- ifelse(new_data$fake_traffic == 1, \"Fake Traffic\", \"Genuine Traffic\")\n",
    "  return(new_data)\n",
    "}"
   ]
  },
  {
   "cell_type": "markdown",
   "metadata": {},
   "source": [
    "# Train Model and Predict"
   ]
  },
  {
   "cell_type": "code",
   "execution_count": 5,
   "metadata": {
    "vscode": {
     "languageId": "r"
    }
   },
   "outputs": [],
   "source": [
    "# Fetch and Preprocess\n",
    "data <- fetch_data()\n",
    "\n",
    "data <- data %>%\n",
    "  mutate(\n",
    "    hour = hour(timestamp),\n",
    "    day_of_week = wday(timestamp, label = TRUE)\n",
    "  )\n",
    "\n",
    "# Train Model\n",
    "model <- isolation.forest(data[, c(\"request_rate\", \"session_duration\", \"unique_paths_visited\")])\n"
   ]
  },
  {
   "cell_type": "markdown",
   "metadata": {},
   "source": [
    "# Monitor"
   ]
  },
  {
   "cell_type": "code",
   "execution_count": 6,
   "metadata": {
    "vscode": {
     "languageId": "r"
    }
   },
   "outputs": [],
   "source": [
    "monitored_data <- monitor_traffic(data, model)"
   ]
  },
  {
   "cell_type": "markdown",
   "metadata": {},
   "source": [
    "# Metrics Calculation"
   ]
  },
  {
   "cell_type": "code",
   "execution_count": 7,
   "metadata": {
    "vscode": {
     "languageId": "r"
    }
   },
   "outputs": [
    {
     "name": "stderr",
     "output_type": "stream",
     "text": [
      "Warning message in confusionMatrix.default(predicted, actual, positive = \"1\"):\n",
      "\"Levels are not in the same order for reference and data. Refactoring data to match.\"\n"
     ]
    },
    {
     "name": "stdout",
     "output_type": "stream",
     "text": [
      "Confusion Matrix and Statistics\n",
      "\n",
      "          Reference\n",
      "Prediction   0   1\n",
      "         0 291  27\n",
      "         1   0   0\n",
      "                                          \n",
      "               Accuracy : 0.9151          \n",
      "                 95% CI : (0.8789, 0.9433)\n",
      "    No Information Rate : 0.9151          \n",
      "    P-Value [Acc > NIR] : 0.551           \n",
      "                                          \n",
      "                  Kappa : 0               \n",
      "                                          \n",
      " Mcnemar's Test P-Value : 5.624e-07       \n",
      "                                          \n",
      "            Sensitivity : 0.00000         \n",
      "            Specificity : 1.00000         \n",
      "         Pos Pred Value :     NaN         \n",
      "         Neg Pred Value : 0.91509         \n",
      "             Prevalence : 0.08491         \n",
      "         Detection Rate : 0.00000         \n",
      "   Detection Prevalence : 0.00000         \n",
      "      Balanced Accuracy : 0.50000         \n",
      "                                          \n",
      "       'Positive' Class : 1               \n",
      "                                          \n"
     ]
    }
   ],
   "source": [
    "# Actual and Predicted Labels\n",
    "actual <- as.factor(monitored_data$fake_traffic)\n",
    "predicted <- as.factor(ifelse(monitored_data$anomaly == 1, 1, 0))\n",
    "\n",
    "# Confusion Matrix\n",
    "conf_matrix <- confusionMatrix(predicted, actual, positive = \"1\")\n",
    "print(conf_matrix)"
   ]
  },
  {
   "cell_type": "markdown",
   "metadata": {},
   "source": [
    "# ROC Curve"
   ]
  },
  {
   "cell_type": "code",
   "execution_count": 8,
   "metadata": {
    "vscode": {
     "languageId": "r"
    }
   },
   "outputs": [
    {
     "name": "stderr",
     "output_type": "stream",
     "text": [
      "Setting levels: control = 0, case = 1\n",
      "\n",
      "Setting direction: controls < cases\n",
      "\n"
     ]
    },
    {
     "data": {
      "image/png": "[encoded data removed]",
      "text/plain": [
       "plot without title"
      ]
     },
     "metadata": {
      "image/png": {
       "height": 420,
       "width": 420
      }
     },
     "output_type": "display_data"
    }
   ],
   "source": [
    "roc_obj <- roc(actual, monitored_data$anomaly_score)\n",
    "ggroc(roc_obj, colour = \"blue\", size = 2) +\n",
    "  ggtitle(\"ROC Curve for Traffic Detection\") +\n",
    "  xlab(\"False Positive Rate (1 - Specificity)\") +\n",
    "  ylab(\"True Positive Rate (Sensitivity)\") +\n",
    "  theme_minimal(base_size = 14)"
   ]
  },
  {
   "cell_type": "markdown",
   "metadata": {},
   "source": [
    "# Metrics"
   ]
  },
  {
   "cell_type": "code",
   "execution_count": 9,
   "metadata": {
    "vscode": {
     "languageId": "r"
    }
   },
   "outputs": [
    {
     "name": "stderr",
     "output_type": "stream",
     "text": [
      "Setting levels: control = 0, case = 1\n",
      "\n",
      "Setting direction: controls < cases\n",
      "\n"
     ]
    }
   ],
   "source": [
    "accuracy <- conf_matrix$overall[\"Accuracy\"]\n",
    "precision <- conf_matrix$byClass[\"Pos Pred Value\"]\n",
    "recall <- conf_matrix$byClass[\"Sensitivity\"]\n",
    "f1_score <- 2 * ((precision * recall) / (precision + recall))\n",
    "roc_obj <- roc(actual, monitored_data$anomaly_score)  # Pass continuous scores\n",
    "auc_value <- auc(roc_obj)"
   ]
  },
  {
   "cell_type": "markdown",
   "metadata": {},
   "source": [
    "# Print all metrics"
   ]
  },
  {
   "cell_type": "code",
   "execution_count": 10,
   "metadata": {
    "vscode": {
     "languageId": "r"
    }
   },
   "outputs": [
    {
     "name": "stdout",
     "output_type": "stream",
     "text": [
      "Accuracy: 91.51 %\n",
      "Precision: NaN \n",
      "Recall: 0 \n",
      "F1 Score: NaN \n",
      "AUC (ROC): 0.988 \n"
     ]
    }
   ],
   "source": [
    "cat(\"Accuracy:\", round(accuracy * 100, 2), \"%\\n\")\n",
    "cat(\"Precision:\", round(precision, 4), \"\\n\")\n",
    "cat(\"Recall:\", round(recall, 4), \"\\n\")\n",
    "cat(\"F1 Score:\", round(f1_score, 4), \"\\n\")\n",
    "cat(\"AUC (ROC):\", round(auc_value, 4), \"\\n\")"
   ]
  },
  {
   "cell_type": "markdown",
   "metadata": {},
   "source": [
    "# Plots"
   ]
  },
  {
   "cell_type": "code",
   "execution_count": 11,
   "metadata": {
    "vscode": {
     "languageId": "r"
    }
   },
   "outputs": [
    {
     "data": {
      "image/png": "[encoded data removed]",
      "text/plain": [
       "plot without title"
      ]
     },
     "metadata": {
      "image/png": {
       "height": 420,
       "width": 420
      }
     },
     "output_type": "display_data"
    }
   ],
   "source": [
    "# ROC Curve\n",
    "roc_plot <- ggroc(roc_obj, colour = \"blue\", size = 2) +\n",
    "  ggtitle(\"ROC Curve for Traffic Detection\") +\n",
    "  xlab(\"False Positive Rate (1 - Specificity)\") +\n",
    "  ylab(\"True Positive Rate (Sensitivity)\") +\n",
    "  theme_minimal(base_size = 14)\n",
    "\n",
    "roc_plot"
   ]
  },
  {
   "cell_type": "code",
   "execution_count": 12,
   "metadata": {
    "vscode": {
     "languageId": "r"
    }
   },
   "outputs": [
    {
     "name": "stderr",
     "output_type": "stream",
     "text": [
      "Warning message:\n",
      "\"\u001b[1m\u001b[22mUsing `size` aesthetic for lines was deprecated in ggplot2 3.4.0.\n",
      "\u001b[36mℹ\u001b[39m Please use `linewidth` instead.\"\n"
     ]
    },
    {
     "data": {
      "image/png": "[encoded data removed]",
      "text/plain": [
       "plot without title"
      ]
     },
     "metadata": {
      "image/png": {
       "height": 420,
       "width": 420
      }
     },
     "output_type": "display_data"
    }
   ],
   "source": [
    "# Precision-Recall Curve\n",
    "pr <- pr.curve(scores.class0 = monitored_data$anomaly_score[monitored_data$fake_traffic == 1],\n",
    "               scores.class1 = monitored_data$anomaly_score[monitored_data$fake_traffic == 0],\n",
    "               curve = TRUE)\n",
    "\n",
    "pr_plot <- ggplot(data.frame(pr$curve), aes(x = X1, y = X2)) +\n",
    "  geom_line(color = \"darkgreen\", size = 1.5) +\n",
    "  labs(title = \"Precision-Recall Curve\",\n",
    "       x = \"Recall\", y = \"Precision\") +\n",
    "  theme_minimal(base_size = 14)\n",
    "\n",
    "pr_plot"
   ]
  },
  {
   "cell_type": "code",
   "execution_count": 13,
   "metadata": {
    "vscode": {
     "languageId": "r"
    }
   },
   "outputs": [
    {
     "data": {
      "image/png": "[encoded data removed]",
      "text/plain": [
       "plot without title"
      ]
     },
     "metadata": {
      "image/png": {
       "height": 420,
       "width": 420
      }
     },
     "output_type": "display_data"
    }
   ],
   "source": [
    "# Confusion Matrix Heatmap\n",
    "cm_df <- as.data.frame(conf_matrix$table)\n",
    "colnames(cm_df) <- c(\"Prediction\", \"Reference\", \"Freq\")\n",
    "\n",
    "cm_plot <- ggplot(cm_df, aes(x = Reference, y = Prediction)) +\n",
    "  geom_tile(aes(fill = Freq), color = \"white\") +\n",
    "  scale_fill_gradient(low = \"white\", high = \"blue\") +\n",
    "  geom_text(aes(label = Freq), vjust = 1.5, size = 6) +\n",
    "  theme_minimal(base_size = 14) +\n",
    "  labs(title = \"Confusion Matrix Heatmap\")\n",
    "\n",
    "cm_plot"
   ]
  },
  {
   "cell_type": "code",
   "execution_count": 14,
   "metadata": {
    "vscode": {
     "languageId": "r"
    }
   },
   "outputs": [],
   "source": [
    "# Anomaly Score Distribution\n",
    "density_plot <- ggplot(monitored_data, aes(x = anomaly_score, fill = traffic_type)) +\n",
    "  geom_density(alpha = 0.5) +\n",
    "  labs(title = \"Anomaly Score Distribution\",\n",
    "       x = \"Anomaly Score\", y = \"Density\") +\n",
    "  theme_minimal(base_size = 14)\n"
   ]
  },
  {
   "cell_type": "code",
   "execution_count": 15,
   "metadata": {
    "vscode": {
     "languageId": "r"
    }
   },
   "outputs": [
    {
     "data": {
      "image/png": "[encoded data removed]",
      "text/plain": [
       "plot without title"
      ]
     },
     "metadata": {
      "image/png": {
       "height": 420,
       "width": 420
      }
     },
     "output_type": "display_data"
    }
   ],
   "source": [
    "# Combine All Plots\n",
    "(roc_plot | pr_plot) / (cm_plot | density_plot)"
   ]
  },
  {
   "cell_type": "markdown",
   "metadata": {},
   "source": [
    "# Create Leaflet Map"
   ]
  },
  {
   "cell_type": "code",
   "execution_count": 16,
   "metadata": {
    "vscode": {
     "languageId": "r"
    }
   },
   "outputs": [],
   "source": [
    "# Convert to numeric\n",
    "monitored_data$latitude <- as.numeric(monitored_data$latitude)\n",
    "monitored_data$longitude <- as.numeric(monitored_data$longitude)\n",
    "\n",
    "# Leaflet Map\n",
    "leaflet_map <- leaflet(data = monitored_data) %>% \n",
    "  addProviderTiles(providers$CartoDB.Positron) %>%\n",
    "  addCircleMarkers(\n",
    "    lat = ~latitude,\n",
    "    lng = ~longitude,\n",
    "    color = ~ifelse(traffic_type == \"Fake Traffic\", 'red', 'green'),\n",
    "    label = ~paste(\n",
    "      \"Request Rate:\", request_rate, \"<br>\",\n",
    "      \"Session Duration:\", session_duration, \"<br>\",\n",
    "      \"Unique Paths Visited:\", unique_paths_visited, \"<br>\",\n",
    "      \"Traffic Type:\", traffic_type\n",
    "    ),\n",
    "    radius = ~ifelse(traffic_type == \"Fake Traffic\", 8, 4),\n",
    "    clusterOptions = markerClusterOptions(),\n",
    "    stroke = FALSE,\n",
    "    fillOpacity = 0.7\n",
    "  )"
   ]
  },
  {
   "cell_type": "markdown",
   "metadata": {},
   "source": [
    "# Display & Save Map"
   ]
  },
  {
   "cell_type": "code",
   "execution_count": 17,
   "metadata": {
    "vscode": {
     "languageId": "r"
    }
   },
   "outputs": [
    {
     "name": "stdout",
     "output_type": "stream",
     "text": [
      "Map saved as 'leaflet_map.html'. Open this file in your browser.\n"
     ]
    }
   ],
   "source": [
    "# Display Map\n",
    "print(leaflet_map)\n",
    "\n",
    "# Save Map\n",
    "saveWidget(leaflet_map, file = \"leaflet_map.html\", selfcontained = FALSE)\n",
    "cat(\"Map saved as 'leaflet_map.html'. Open this file in your browser.\\n\")"
   ]
  }
 ],
 "metadata": {
  "kernelspec": {
   "display_name": "R",
   "language": "R",
   "name": "ir"
  },
  "language_info": {
   "codemirror_mode": "r",
   "file_extension": ".r",
   "mimetype": "text/x-r-source",
   "name": "R",
   "pygments_lexer": "r",
   "version": "4.5.0"
  }
 },
 "nbformat": 4,
 "nbformat_minor": 2
}
